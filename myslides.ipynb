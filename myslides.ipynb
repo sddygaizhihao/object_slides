{
 "cells": [
  {
   "cell_type": "markdown",
   "metadata": {
    "slideshow": {
     "slide_type": "skip"
    }
   },
   "source": [
    "#jupyter nbconvert myslides.ipynb --to slides --post serve"
   ]
  },
  {
   "cell_type": "markdown",
   "metadata": {
    "slideshow": {
     "slide_type": "slide"
    }
   },
   "source": [
    "# 面向对象编程与scikit-learn概述\n",
    "\n",
    "#### 盖志浩 "
   ]
  },
  {
   "cell_type": "markdown",
   "metadata": {
    "slideshow": {
     "slide_type": "slide"
    }
   },
   "source": [
    "## 编程三重境界  \n",
    "\n"
   ]
  },
  {
   "cell_type": "markdown",
   "metadata": {
    "slideshow": {
     "slide_type": "fragment"
    }
   },
   "source": [
    "* **面向过程编程**：根据算法逻辑，从头到尾编译代码。(菜鸡)  "
   ]
  },
  {
   "cell_type": "markdown",
   "metadata": {
    "slideshow": {
     "slide_type": "fragment"
    }
   },
   "source": [
    "* **函数式编程**：将代码封装到函数中供以后调用。(或许你已经开始了)  "
   ]
  },
  {
   "cell_type": "markdown",
   "metadata": {
    "slideshow": {
     "slide_type": "fragment"
    }
   },
   "source": [
    "* **面向对象编程**：将数据和处理数据的函数封装成一个对象，使得程序更清晰、重用性更高。"
   ]
  },
  {
   "cell_type": "markdown",
   "metadata": {
    "slideshow": {
     "slide_type": "slide"
    }
   },
   "source": [
    "## 面向对象编程简介"
   ]
  },
  {
   "cell_type": "markdown",
   "metadata": {
    "slideshow": {
     "slide_type": "slide"
    }
   },
   "source": [
    "### 对象和类\n",
    "\n",
    "面向对象编程中，首先说明的是**类(class)**和**对象(object)**的概念。对象是数据和处理数据的函数的结合。而类是具有相同的**属性(attribute)**和**方法(method)**的对象的集合。    "
   ]
  },
  {
   "cell_type": "markdown",
   "metadata": {
    "slideshow": {
     "slide_type": "fragment"
    }
   },
   "source": [
    "如果文字概念晦涩难懂，那么我们使用一个例子来感受一下什么是类和对象。比如说，大学教授这个职业就是一个抽象的类，而方匡南老师和张庆昭老师就是具体的对象。比如之前学到的python中列表是一个类，那么`[1,2,3]`和`[1,2,3,4]`都是一个具体的对象。  "
   ]
  },
  {
   "cell_type": "markdown",
   "metadata": {
    "slideshow": {
     "slide_type": "slide"
    }
   },
   "source": [
    "### 创建一个类并实例化"
   ]
  },
  {
   "cell_type": "markdown",
   "metadata": {
    "slideshow": {
     "slide_type": "fragment"
    }
   },
   "source": [
    "python中能够非常方便、快捷创建一个类。创建类的方法是`class`语句，`class`后为类的名称，这里我们创建一个名为Professor的类。"
   ]
  },
  {
   "cell_type": "code",
   "execution_count": 1,
   "metadata": {
    "collapsed": true,
    "slideshow": {
     "slide_type": "subslide"
    }
   },
   "outputs": [],
   "source": [
    "class Professor:\n",
    "    \n",
    "    University = '厦门大学'\n",
    "    \n",
    "    def __init__(self, name, department):\n",
    "        self.name = name\n",
    "        self.department = department\n",
    "        self.major = department\n",
    "        \n",
    "    def introduce_1(self):\n",
    "        print(self.name, '教授来自', Professor.University, '。', sep = '')\n",
    "        \n",
    "    def introduce_2(self):\n",
    "        print(self.name, '教授在', self.department, '任教。', sep = '')\n",
    "    "
   ]
  },
  {
   "cell_type": "markdown",
   "metadata": {
    "slideshow": {
     "slide_type": "fragment"
    }
   },
   "source": [
    "* `__init__()`方法是一种定义类的时候的特殊方法，是类的构造函数或初始化方法。而这个方法必须有第一个参数名称`self`，`self`代表类的实例，类的实例化就是创建类一个具体对象的过程。当然你也可以用其他的关键字来代替`self`。 \n",
    "\n",
    " \n",
    "\n",
    "* `University`是一个类变量，是类`Professor`所有共享的变量，在所有实例化的对象中通用。在这个例子中，意味着创建所有的实例化对象都是厦门大学的教授。   \n",
    "\n",
    "\n"
   ]
  },
  {
   "cell_type": "code",
   "execution_count": 2,
   "metadata": {
    "collapsed": true,
    "slideshow": {
     "slide_type": "fragment"
    }
   },
   "outputs": [],
   "source": [
    "## 类的实例化\n",
    "First = Professor('王某', '金融系')"
   ]
  },
  {
   "cell_type": "markdown",
   "metadata": {
    "slideshow": {
     "slide_type": "slide"
    }
   },
   "source": [
    "### 类的属性和方法"
   ]
  },
  {
   "cell_type": "markdown",
   "metadata": {
    "slideshow": {
     "slide_type": "fragment"
    }
   },
   "source": [
    "当将一个类实例化后，就可以访问类属性，或者调用类的方法了。"
   ]
  },
  {
   "cell_type": "code",
   "execution_count": 3,
   "metadata": {
    "scrolled": true,
    "slideshow": {
     "slide_type": "fragment"
    }
   },
   "outputs": [
    {
     "name": "stdout",
     "output_type": "stream",
     "text": [
      "王某\n",
      "金融系\n",
      "金融系\n"
     ]
    }
   ],
   "source": [
    "## 访问属性\n",
    "print(First.name)\n",
    "print(First.department)\n",
    "print(First.major)"
   ]
  },
  {
   "cell_type": "code",
   "execution_count": 4,
   "metadata": {
    "slideshow": {
     "slide_type": "fragment"
    }
   },
   "outputs": [
    {
     "name": "stdout",
     "output_type": "stream",
     "text": [
      "王某教授来自厦门大学。\n",
      "王某教授在金融系任教。\n"
     ]
    }
   ],
   "source": [
    "## 调用方法\n",
    "First.introduce_1()\n",
    "First.introduce_2()"
   ]
  },
  {
   "cell_type": "markdown",
   "metadata": {
    "slideshow": {
     "slide_type": "subslide"
    }
   },
   "source": [
    "你可以添加、修改和删除一个对象的属性"
   ]
  },
  {
   "cell_type": "code",
   "execution_count": 5,
   "metadata": {
    "slideshow": {
     "slide_type": "fragment"
    }
   },
   "outputs": [
    {
     "name": "stdout",
     "output_type": "stream",
     "text": [
      "38\n"
     ]
    }
   ],
   "source": [
    "First.age = 38 \n",
    "print(First.age)"
   ]
  },
  {
   "cell_type": "code",
   "execution_count": 6,
   "metadata": {
    "slideshow": {
     "slide_type": "fragment"
    }
   },
   "outputs": [
    {
     "name": "stdout",
     "output_type": "stream",
     "text": [
      "王二\n"
     ]
    }
   ],
   "source": [
    "First.name = '王二'\n",
    "print(First.name)"
   ]
  },
  {
   "cell_type": "code",
   "execution_count": 7,
   "metadata": {
    "scrolled": true,
    "slideshow": {
     "slide_type": "fragment"
    }
   },
   "outputs": [
    {
     "ename": "AttributeError",
     "evalue": "'Professor' object has no attribute 'age'",
     "output_type": "error",
     "traceback": [
      "\u001b[0;31m---------------------------------------------------------------------------\u001b[0m",
      "\u001b[0;31mAttributeError\u001b[0m                            Traceback (most recent call last)",
      "\u001b[0;32m<ipython-input-7-01d1e84fd004>\u001b[0m in \u001b[0;36m<module>\u001b[0;34m()\u001b[0m\n\u001b[1;32m      1\u001b[0m \u001b[0mSecond\u001b[0m \u001b[0;34m=\u001b[0m \u001b[0mProfessor\u001b[0m\u001b[0;34m(\u001b[0m\u001b[0;34m'李四'\u001b[0m\u001b[0;34m,\u001b[0m \u001b[0;34m'统计系'\u001b[0m\u001b[0;34m)\u001b[0m\u001b[0;34m\u001b[0m\u001b[0m\n\u001b[0;32m----> 2\u001b[0;31m \u001b[0mSecond\u001b[0m\u001b[0;34m.\u001b[0m\u001b[0mage\u001b[0m\u001b[0;34m\u001b[0m\u001b[0m\n\u001b[0m\u001b[1;32m      3\u001b[0m \u001b[0;31m## 增加属性仅限于已经实例化的对象。\u001b[0m\u001b[0;34m\u001b[0m\u001b[0;34m\u001b[0m\u001b[0m\n",
      "\u001b[0;31mAttributeError\u001b[0m: 'Professor' object has no attribute 'age'"
     ]
    }
   ],
   "source": [
    "Second = Professor('李四', '统计系')\n",
    "Second.age\n",
    "## 增加属性仅限于已经实例化的对象。"
   ]
  },
  {
   "cell_type": "code",
   "execution_count": 8,
   "metadata": {
    "collapsed": true,
    "slideshow": {
     "slide_type": "fragment"
    }
   },
   "outputs": [],
   "source": [
    "del First.age"
   ]
  },
  {
   "cell_type": "markdown",
   "metadata": {
    "slideshow": {
     "slide_type": "subslide"
    }
   },
   "source": [
    "在创建一个类的时候，我们可以选择定义类的私有属性和方法。私有属性和方法只能在类的内部被直接使用，而外部不能，这样有助于提高程序的稳定性。  \n",
    "\n",
    "定义一个私有属性需要在属性名前加两个下划线开头来做声明。比如`__private_attrs`。私有属性不能在类的外部被直接访问或使用，但是可以在在类内部的方法中使用。 `self.__private_attrs`。\n",
    "\n",
    "同样定义一个私有方法也是加两个下划线，比如`__private_method`。同样，这个方法不能在类的外部被直接调用，只能在类的内部调用 "
   ]
  },
  {
   "cell_type": "code",
   "execution_count": 9,
   "metadata": {
    "slideshow": {
     "slide_type": "subslide"
    }
   },
   "outputs": [],
   "source": [
    "class Professor:\n",
    "    \n",
    "    University = '厦门大学'\n",
    "    __base_score = 5.0\n",
    "    \n",
    "    def __init__(self, name, department, edu, res):\n",
    "        self.name = name\n",
    "        self.department = department\n",
    "        self.major = department\n",
    "        self.edu = edu\n",
    "        self.res = res\n",
    "        \n",
    "    def introduce_1(self):\n",
    "        print(self.name, '教授来自', Professor.University, '。', sep = '')\n",
    "        \n",
    "    def introduce_2(self):\n",
    "        print(self.name, '教授在', self.department, '任教。', sep = '')\n",
    "        \n",
    "    def __count(self, __base_score):\n",
    "        return(self.edu*4/9+self.res*5/9 + self.__base_score)\n",
    "    \n",
    "    def report(self):\n",
    "        score = self.__count(self)\n",
    "        return(score)"
   ]
  },
  {
   "cell_type": "code",
   "execution_count": 10,
   "metadata": {
    "scrolled": true,
    "slideshow": {
     "slide_type": "fragment"
    }
   },
   "outputs": [],
   "source": [
    "First = Professor('王二', '统计系', 4.6, 4.7)"
   ]
  },
  {
   "cell_type": "code",
   "execution_count": 11,
   "metadata": {
    "scrolled": false,
    "slideshow": {
     "slide_type": "fragment"
    }
   },
   "outputs": [
    {
     "data": {
      "text/plain": [
       "9.655555555555555"
      ]
     },
     "execution_count": 11,
     "metadata": {},
     "output_type": "execute_result"
    }
   ],
   "source": [
    "First.report()"
   ]
  },
  {
   "cell_type": "code",
   "execution_count": 12,
   "metadata": {
    "slideshow": {
     "slide_type": "subslide"
    }
   },
   "outputs": [
    {
     "ename": "AttributeError",
     "evalue": "'Professor' object has no attribute '__base_score'",
     "output_type": "error",
     "traceback": [
      "\u001b[0;31m---------------------------------------------------------------------------\u001b[0m",
      "\u001b[0;31mAttributeError\u001b[0m                            Traceback (most recent call last)",
      "\u001b[0;32m<ipython-input-12-64ff41d0b60e>\u001b[0m in \u001b[0;36m<module>\u001b[0;34m()\u001b[0m\n\u001b[0;32m----> 1\u001b[0;31m \u001b[0mprint\u001b[0m\u001b[0;34m(\u001b[0m\u001b[0mFirst\u001b[0m\u001b[0;34m.\u001b[0m\u001b[0m__base_score\u001b[0m\u001b[0;34m)\u001b[0m\u001b[0;34m\u001b[0m\u001b[0m\n\u001b[0m",
      "\u001b[0;31mAttributeError\u001b[0m: 'Professor' object has no attribute '__base_score'"
     ]
    }
   ],
   "source": [
    "print(First.__base_score)"
   ]
  },
  {
   "cell_type": "markdown",
   "metadata": {
    "slideshow": {
     "slide_type": "slide"
    }
   },
   "source": [
    "### 类的继承"
   ]
  },
  {
   "cell_type": "markdown",
   "metadata": {
    "slideshow": {
     "slide_type": "fragment"
    }
   },
   "source": [
    "面向对象的编程的主要功能之一是提高的代码的重用性，实现一特点的方法就是类的继承。继承发生在父类和子类之间。目的是在父类的基础上,能对父类属性和方法，进行必要的增添和修改。  \n",
    "\n",
    "继承语句依然同定义class的方式相同，区别在于继承的时候需在子类的后面用括号声明需要继承的父类，"
   ]
  },
  {
   "cell_type": "code",
   "execution_count": 13,
   "metadata": {
    "collapsed": true,
    "slideshow": {
     "slide_type": "fragment"
    }
   },
   "outputs": [],
   "source": [
    "class Teacher(Professor):\n",
    "    \n",
    "    def introduce_3(self):\n",
    "        print(self.name, '老师来自', self.University, self.department, '。', sep='')"
   ]
  },
  {
   "cell_type": "code",
   "execution_count": 14,
   "metadata": {
    "scrolled": true,
    "slideshow": {
     "slide_type": "fragment"
    }
   },
   "outputs": [
    {
     "name": "stdout",
     "output_type": "stream",
     "text": [
      "王二教授来自厦门大学。\n",
      "王二教授在统计系任教。\n",
      "王二老师来自厦门大学统计系。\n"
     ]
    }
   ],
   "source": [
    "First = Teacher('王二', '统计系', 4.6, 4.7)\n",
    "First.introduce_1()\n",
    "First.introduce_2()\n",
    "First.introduce_3()"
   ]
  },
  {
   "cell_type": "markdown",
   "metadata": {},
   "source": [
    "## scikit learn 概述"
   ]
  },
  {
   "cell_type": "markdown",
   "metadata": {},
   "source": [
    "## "
   ]
  },
  {
   "cell_type": "code",
   "execution_count": 15,
   "metadata": {},
   "outputs": [
    {
     "data": {
      "text/plain": [
       "module"
      ]
     },
     "execution_count": 15,
     "metadata": {},
     "output_type": "execute_result"
    }
   ],
   "source": [
    "from sklearn import svm\n",
    "type(svm)"
   ]
  },
  {
   "cell_type": "code",
   "execution_count": 16,
   "metadata": {
    "scrolled": true
   },
   "outputs": [
    {
     "data": {
      "text/plain": [
       "sklearn.svm.classes.SVC"
      ]
     },
     "execution_count": 16,
     "metadata": {},
     "output_type": "execute_result"
    }
   ],
   "source": [
    "clf = svm.SVC()\n",
    "type(clf)"
   ]
  },
  {
   "cell_type": "code",
   "execution_count": null,
   "metadata": {
    "collapsed": true
   },
   "outputs": [],
   "source": []
  }
 ],
 "metadata": {
  "celltoolbar": "Slideshow",
  "hide_input": false,
  "kernelspec": {
   "display_name": "Python 3",
   "language": "python",
   "name": "python3"
  },
  "language_info": {
   "codemirror_mode": {
    "name": "ipython",
    "version": 3
   },
   "file_extension": ".py",
   "mimetype": "text/x-python",
   "name": "python",
   "nbconvert_exporter": "python",
   "pygments_lexer": "ipython3",
   "version": "3.6.3"
  },
  "latex_envs": {
   "LaTeX_envs_menu_present": true,
   "autocomplete": true,
   "bibliofile": "biblio.bib",
   "cite_by": "apalike",
   "current_citInitial": 1,
   "eqLabelWithNumbers": true,
   "eqNumInitial": 1,
   "hotkeys": {
    "equation": "Ctrl-E",
    "itemize": "Ctrl-I"
   },
   "labels_anchors": false,
   "latex_user_defs": false,
   "report_style_numbering": false,
   "user_envs_cfg": false
  },
  "toc": {
   "nav_menu": {},
   "number_sections": true,
   "sideBar": true,
   "skip_h1_title": false,
   "toc_cell": false,
   "toc_position": {},
   "toc_section_display": "block",
   "toc_window_display": false
  },
  "varInspector": {
   "cols": {
    "lenName": 16,
    "lenType": 16,
    "lenVar": 40
   },
   "kernels_config": {
    "python": {
     "delete_cmd_postfix": "",
     "delete_cmd_prefix": "del ",
     "library": "var_list.py",
     "varRefreshCmd": "print(var_dic_list())"
    },
    "r": {
     "delete_cmd_postfix": ") ",
     "delete_cmd_prefix": "rm(",
     "library": "var_list.r",
     "varRefreshCmd": "cat(var_dic_list()) "
    }
   },
   "types_to_exclude": [
    "module",
    "function",
    "builtin_function_or_method",
    "instance",
    "_Feature"
   ],
   "window_display": false
  }
 },
 "nbformat": 4,
 "nbformat_minor": 2
}
