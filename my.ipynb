{
 "cells": [
  {
   "cell_type": "markdown",
   "metadata": {
    "slideshow": {
     "slide_type": "skip"
    }
   },
   "source": [
    "#jupyter nbconvert myslides.ipynb --to slides --post serve"
   ]
  },
  {
   "cell_type": "markdown",
   "metadata": {
    "slideshow": {
     "slide_type": "slide"
    }
   },
   "source": [
    "# 面向对象编程与scikit-learn概述\n",
    "\n",
    "#### 盖志浩 "
   ]
  },
  {
   "cell_type": "markdown",
   "metadata": {
    "slideshow": {
     "slide_type": "slide"
    }
   },
   "source": [
    "## 编程三个层次\n",
    "\n"
   ]
  },
  {
   "cell_type": "markdown",
   "metadata": {
    "slideshow": {
     "slide_type": "fragment"
    }
   },
   "source": [
    "* **面向过程编程**：根据算法逻辑，从头到尾编译代码。(菜鸡)  "
   ]
  },
  {
   "cell_type": "markdown",
   "metadata": {
    "slideshow": {
     "slide_type": "fragment"
    }
   },
   "source": [
    "* **函数式编程**：将代码封装到函数中供以后调用。(或许你已经开始了)  "
   ]
  },
  {
   "cell_type": "markdown",
   "metadata": {
    "slideshow": {
     "slide_type": "fragment"
    }
   },
   "source": [
    "* **面向对象编程**：将数据和处理数据的函数封装成一个对象，使得程序更清晰、重用性更高，更适合工程的要求。"
   ]
  },
  {
   "cell_type": "markdown",
   "metadata": {
    "slideshow": {
     "slide_type": "slide"
    }
   },
   "source": [
    "## 面向对象编程简介"
   ]
  },
  {
   "cell_type": "markdown",
   "metadata": {
    "slideshow": {
     "slide_type": "slide"
    }
   },
   "source": [
    "### 对象和类\n",
    "\n",
    "面向对象编程中，首先说明的是**类(class)**和**对象(object)**的概念。对象是数据和处理数据的函数的结合。而类是具有相同的**属性(attribute)**和**方法(method)**的对象的集合。    "
   ]
  },
  {
   "cell_type": "markdown",
   "metadata": {
    "slideshow": {
     "slide_type": "fragment"
    }
   },
   "source": [
    "如果文字概念晦涩难懂，那么我们使用一个例子来感受一下什么是类和对象。比如说，大学教授就是一个抽象的类，而方匡南老师和张庆昭老师就是具体的对象。比如之前学到的python中列表是一个类，那么`[1,2,3]`和`[1,2,3,4]`都是一个具体的对象。类具体为对象的过程，叫做类的**实例化**，对象也叫做类的一个**实例**。"
   ]
  },
  {
   "cell_type": "markdown",
   "metadata": {
    "slideshow": {
     "slide_type": "slide"
    }
   },
   "source": [
    "### 创建一个类并实例化\n"
   ]
  },
  {
   "cell_type": "markdown",
   "metadata": {
    "slideshow": {
     "slide_type": "fragment"
    }
   },
   "source": [
    "python中能够非常方便、快捷创建一个类。创建类的方法是`class`语句，`class`后为类的名称，这里我们创建一个名为Professor的类。"
   ]
  },
  {
   "cell_type": "code",
   "execution_count": 1,
   "metadata": {
    "collapsed": true,
    "slideshow": {
     "slide_type": "slide"
    }
   },
   "outputs": [],
   "source": [
    "class Professor:\n",
    "    \n",
    "    University = '厦门大学'\n",
    "    \n",
    "    \n",
    "    def __init__(self, name, department):\n",
    "        self.name = name\n",
    "        self.department = department\n",
    "        self.major = department\n",
    "        \n",
    "    def introduce_1(self):\n",
    "        print(self.name, '教授来自', Professor.University, '。', sep = '')\n",
    "        \n",
    "    def introduce_2(self, year):\n",
    "        print(self.name, '教授在', self.department, '任教', year, '年了。', sep = '')\n",
    "    "
   ]
  },
  {
   "cell_type": "markdown",
   "metadata": {
    "slideshow": {
     "slide_type": "fragment"
    }
   },
   "source": [
    "* `__init__()`方法是一种定义类的时候的特殊方法，是类的构造函数或初始化方法。而这个方法必须有第一个参数名称`self`，`self`代表类的实例，类的实例化就是创建类一个具体对象的过程。当然你也可以用其他的关键字来代替`self`。 \n",
    "\n",
    " \n",
    "\n",
    "* `University`是一个类变量，是类`Professor`所有共享的变量，在所有实例化的对象中通用。在这个例子中，意味着创建所有的实例化对象都是厦门大学的教授。   \n",
    "\n",
    "\n"
   ]
  }
 ],
 "metadata": {
  "celltoolbar": "Slideshow",
  "hide_input": false,
  "kernelspec": {
   "display_name": "Python 3",
   "language": "python",
   "name": "python3"
  },
  "language_info": {
   "codemirror_mode": {
    "name": "ipython",
    "version": 3
   },
   "file_extension": ".py",
   "mimetype": "text/x-python",
   "name": "python",
   "nbconvert_exporter": "python",
   "pygments_lexer": "ipython3",
   "version": "3.6.3"
  },
  "latex_envs": {
   "LaTeX_envs_menu_present": true,
   "autocomplete": true,
   "bibliofile": "biblio.bib",
   "cite_by": "number",
   "current_citInitial": 1,
   "eqLabelWithNumbers": true,
   "eqNumInitial": 1,
   "hotkeys": {
    "equation": "Ctrl-E",
    "itemize": "Ctrl-I"
   },
   "labels_anchors": true,
   "latex_user_defs": false,
   "report_style_numbering": false,
   "user_envs_cfg": false
  },
  "toc": {
   "nav_menu": {},
   "number_sections": true,
   "sideBar": true,
   "skip_h1_title": false,
   "toc_cell": false,
   "toc_position": {},
   "toc_section_display": "block",
   "toc_window_display": false
  },
  "varInspector": {
   "cols": {
    "lenName": 16,
    "lenType": 16,
    "lenVar": 40
   },
   "kernels_config": {
    "python": {
     "delete_cmd_postfix": "",
     "delete_cmd_prefix": "del ",
     "library": "var_list.py",
     "varRefreshCmd": "print(var_dic_list())"
    },
    "r": {
     "delete_cmd_postfix": ") ",
     "delete_cmd_prefix": "rm(",
     "library": "var_list.r",
     "varRefreshCmd": "cat(var_dic_list()) "
    }
   },
   "types_to_exclude": [
    "module",
    "function",
    "builtin_function_or_method",
    "instance",
    "_Feature"
   ],
   "window_display": false
  }
 },
 "nbformat": 4,
 "nbformat_minor": 2
}
